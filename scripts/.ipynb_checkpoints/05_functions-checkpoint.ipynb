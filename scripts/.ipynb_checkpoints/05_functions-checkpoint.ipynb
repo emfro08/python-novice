{
 "cells": [
  {
   "cell_type": "code",
   "execution_count": 1,
   "metadata": {},
   "outputs": [],
   "source": [
    "import pandas"
   ]
  },
  {
   "cell_type": "code",
   "execution_count": 2,
   "metadata": {},
   "outputs": [],
   "source": [
    "import glob"
   ]
  },
  {
   "cell_type": "code",
   "execution_count": 2,
   "metadata": {},
   "outputs": [
    {
     "name": "stdout",
     "output_type": "stream",
     "text": [
      "Object `glob.glob()` not found.\n"
     ]
    }
   ],
   "source": [
    "?glob.glob()"
   ]
  },
  {
   "cell_type": "code",
   "execution_count": null,
   "metadata": {},
   "outputs": [],
   "source": [
    "#from utils import print_hello      ### we create a fils name utils with list of functions on it"
   ]
  },
  {
   "cell_type": "code",
   "execution_count": 7,
   "metadata": {},
   "outputs": [],
   "source": [
    "def print_hello():\n",
    "    \"\"\"This function provides me a hello\"\"\" #create documentation and when we use tab to know function, we can already know how that do\n",
    "    print(\"hello\")"
   ]
  },
  {
   "cell_type": "code",
   "execution_count": 6,
   "metadata": {},
   "outputs": [
    {
     "name": "stdout",
     "output_type": "stream",
     "text": [
      "hello\n"
     ]
    }
   ],
   "source": [
    "print_hello() #we call a function we just create"
   ]
  },
  {
   "cell_type": "code",
   "execution_count": 14,
   "metadata": {},
   "outputs": [],
   "source": [
    "def return_combined_date(year, month, day):\n",
    "    \"\"\"return ISO 8601 DATE FORMAT\n",
    "    https://fr.wikipedia.org/wiki/ISO_8601\n",
    "    Parameter\n",
    "    -----\n",
    "    year = int\n",
    "        the year of interest\n",
    "    month = int\n",
    "        the  month of interest (! between 1 and 12)\n",
    "    day = int\n",
    "        the day of interest\n",
    "    \"\"\"\n",
    "    assert month <= 12 #only 12 months in a year\n",
    "    assert day <=31 #months have max 31 days\n",
    "    return str (year) + '-' + str(month)+ '-' + str(day) \n",
    "    "
   ]
  },
  {
   "cell_type": "code",
   "execution_count": 15,
   "metadata": {},
   "outputs": [
    {
     "data": {
      "text/plain": [
       "'2000-11-2'"
      ]
     },
     "execution_count": 15,
     "metadata": {},
     "output_type": "execute_result"
    }
   ],
   "source": [
    "#print_date(2000, 11, 25) #give date sequences matters, python didn't know diff\n",
    "return_combined_date(2000, 11, 2)"
   ]
  },
  {
   "cell_type": "code",
   "execution_count": 42,
   "metadata": {},
   "outputs": [
    {
     "data": {
      "text/plain": [
       "'Myanmar'"
      ]
     },
     "execution_count": 42,
     "metadata": {},
     "output_type": "execute_result"
    }
   ],
   "source": [
    "#Fill in the blanks to create a function that takes a single filename as an argument, loads the data in the file named by the argument, and returns the minimum value of column gdpPercap_1972 in that data:\n",
    "    \n",
    "import pandas\n",
    "\n",
    "filename = \"../data/gapminder_all.csv\"\n",
    "data = pandas.read_csv(filename, index_col = \"country\")\n",
    "data[\"gdpPercap_1972\"].idxmin() #argument of the minimun, function in pandas\n",
    "\n"
   ]
  },
  {
   "cell_type": "code",
   "execution_count": 45,
   "metadata": {},
   "outputs": [],
   "source": [
    "#Fill in the blanks to create a function that takes a single filename as an argument, \n",
    "#loads the data in the file named by the argument, and returns the minimum value of column gdpPercap_1972 in that data:\n",
    "    \n",
    "import pandas\n",
    "\n",
    "\n",
    "def min_in_data(filename, column_name): #choose a file, read it, choose column, choose value of min column #give filename for reuse\n",
    "    \"\"\"provide country and value with minimal value\n",
    "    Parameters\n",
    "    -----\n",
    "    document you code !\n",
    "    \"\"\"\n",
    "    data= pandas.read_csv(filename, index_col = \"country\")\n",
    "    min_date = data[column_name].min() #always for this column from 1972 of choose to column_name\n",
    "    min_country = data[column_name].idxmin()\n",
    "    return min_date, min_country\n",
    "\n"
   ]
  },
  {
   "cell_type": "code",
   "execution_count": 46,
   "metadata": {},
   "outputs": [
    {
     "data": {
      "text/plain": [
       "(357.0, 'Myanmar')"
      ]
     },
     "execution_count": 46,
     "metadata": {},
     "output_type": "execute_result"
    }
   ],
   "source": [
    "min_in_data(\"../data/gapminder_all.csv\",\"gdpPercap_1972\") #we can change argument column_name = \"gdpPercap_1900\" just call the good name"
   ]
  },
  {
   "cell_type": "code",
   "execution_count": null,
   "metadata": {},
   "outputs": [],
   "source": []
  }
 ],
 "metadata": {
  "kernelspec": {
   "display_name": "Python 3",
   "language": "python",
   "name": "python3"
  },
  "language_info": {
   "codemirror_mode": {
    "name": "ipython",
    "version": 3
   },
   "file_extension": ".py",
   "mimetype": "text/x-python",
   "name": "python",
   "nbconvert_exporter": "python",
   "pygments_lexer": "ipython3",
   "version": "3.6.6"
  }
 },
 "nbformat": 4,
 "nbformat_minor": 2
}
